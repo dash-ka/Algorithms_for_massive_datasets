{
  "nbformat": 4,
  "nbformat_minor": 0,
  "metadata": {
    "colab": {
      "name": "SON_frequent_itemsets.ipynb",
      "provenance": [],
      "collapsed_sections": [],
      "authorship_tag": "ABX9TyMF6qcSquKwYrnpg3XjsDnx",
      "include_colab_link": true
    },
    "kernelspec": {
      "name": "python3",
      "display_name": "Python 3"
    },
    "language_info": {
      "name": "python"
    }
  },
  "cells": [
    {
      "cell_type": "markdown",
      "metadata": {
        "id": "view-in-github",
        "colab_type": "text"
      },
      "source": [
        "<a href=\"https://colab.research.google.com/github/dash-ka/Algorithms_for_massive_datasets/blob/master/SON_frequent_itemsets.ipynb\" target=\"_parent\"><img src=\"https://colab.research.google.com/assets/colab-badge.svg\" alt=\"Open In Colab\"/></a>"
      ]
    },
    {
      "cell_type": "code",
      "execution_count": 1,
      "metadata": {
        "id": "FTD-89EJ0QO7",
        "colab": {
          "base_uri": "https://localhost:8080/"
        },
        "outputId": "68ea96a5-f685-4c35-b29f-c1e03faa074b"
      },
      "outputs": [
        {
          "output_type": "stream",
          "name": "stdout",
          "text": [
            "Collecting pyspark\n",
            "  Downloading pyspark-3.2.1.tar.gz (281.4 MB)\n",
            "\u001b[K     |████████████████████████████████| 281.4 MB 34 kB/s \n",
            "\u001b[?25hCollecting py4j==0.10.9.3\n",
            "  Downloading py4j-0.10.9.3-py2.py3-none-any.whl (198 kB)\n",
            "\u001b[K     |████████████████████████████████| 198 kB 55.1 MB/s \n",
            "\u001b[?25hBuilding wheels for collected packages: pyspark\n",
            "  Building wheel for pyspark (setup.py) ... \u001b[?25l\u001b[?25hdone\n",
            "  Created wheel for pyspark: filename=pyspark-3.2.1-py2.py3-none-any.whl size=281853642 sha256=37a3793eb4f13ce52655576abde3e5168647488e818a3374b0d8638ce1024c90\n",
            "  Stored in directory: /root/.cache/pip/wheels/9f/f5/07/7cd8017084dce4e93e84e92efd1e1d5334db05f2e83bcef74f\n",
            "Successfully built pyspark\n",
            "Installing collected packages: py4j, pyspark\n",
            "Successfully installed py4j-0.10.9.3 pyspark-3.2.1\n",
            "[nltk_data] Downloading package stopwords to /root/nltk_data...\n",
            "[nltk_data]   Unzipping corpora/stopwords.zip.\n"
          ]
        }
      ],
      "source": [
        "!pip install pyspark\n",
        "import time\n",
        "import random\n",
        "import numpy as np\n",
        "import pandas as pd\n",
        "import matplotlib.pyplot as plt\n",
        "from itertools import combinations\n",
        "from collections import defaultdict\n",
        "\n",
        "import nltk\n",
        "nltk.download('stopwords')\n",
        "from nltk.corpus import stopwords\n",
        "stop = set(stopwords.words(\"english\"))\n",
        "from nltk.tokenize import TweetTokenizer\n",
        "tweet_tokenizer = TweetTokenizer()\n",
        "\n",
        "import pyspark\n",
        "from pyspark.sql import SparkSession\n",
        "import pyspark.sql.functions as F\n",
        "spark = SparkSession.builder.getOrCreate()\n",
        "sc = spark.sparkContext"
      ]
    },
    {
      "cell_type": "markdown",
      "source": [
        "## Kaggle API\n",
        "Upload a json file with your Kaggle API key."
      ],
      "metadata": {
        "id": "TpHj66Zn0h8A"
      }
    },
    {
      "cell_type": "code",
      "source": [
        "!pip install -q kaggle\n",
        "from google.colab import files\n",
        "files.upload()"
      ],
      "metadata": {
        "id": "eRiGhm5V0fe8",
        "colab": {
          "resources": {
            "http://localhost:8080/nbextensions/google.colab/files.js": {
              "data": "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",
              "ok": true,
              "headers": [
                [
                  "content-type",
                  "application/javascript"
                ]
              ],
              "status": 200,
              "status_text": ""
            }
          },
          "base_uri": "https://localhost:8080/",
          "height": 91
        },
        "outputId": "d627e81c-34e6-4edf-91af-1e1087b74ed1"
      },
      "execution_count": 2,
      "outputs": [
        {
          "output_type": "display_data",
          "data": {
            "text/plain": [
              "<IPython.core.display.HTML object>"
            ],
            "text/html": [
              "\n",
              "     <input type=\"file\" id=\"files-aee789f4-3dca-4402-ba79-8ca48f32dc75\" name=\"files[]\" multiple disabled\n",
              "        style=\"border:none\" />\n",
              "     <output id=\"result-aee789f4-3dca-4402-ba79-8ca48f32dc75\">\n",
              "      Upload widget is only available when the cell has been executed in the\n",
              "      current browser session. Please rerun this cell to enable.\n",
              "      </output>\n",
              "      <script src=\"/nbextensions/google.colab/files.js\"></script> "
            ]
          },
          "metadata": {}
        },
        {
          "output_type": "stream",
          "name": "stdout",
          "text": [
            "Saving kaggle.json to kaggle.json\n"
          ]
        },
        {
          "output_type": "execute_result",
          "data": {
            "text/plain": [
              "{'kaggle.json': b'{\"username\":\"daryashlyk\",\"key\":\"2b08cadfdfdf2a3eb5d27d5b55109d25\"}'}"
            ]
          },
          "metadata": {},
          "execution_count": 2
        }
      ]
    },
    {
      "cell_type": "code",
      "source": [
        "! mkdir ~/.kaggle\n",
        "! cp kaggle.json ~/.kaggle\n",
        "! chmod 600 ~/.kaggle/kaggle.json"
      ],
      "metadata": {
        "id": "5oUPLss90aRU"
      },
      "execution_count": 3,
      "outputs": []
    },
    {
      "cell_type": "markdown",
      "source": [
        "Download the dataset from Kaggle"
      ],
      "metadata": {
        "id": "se9G3i-v0pvj"
      }
    },
    {
      "cell_type": "code",
      "source": [
        "!kaggle datasets download bwandowando/ukraine-russian-crisis-twitter-dataset-1-2-m-rows -f UkraineCombinedTweetsDeduped20220227-131611.csv.gzip \n",
        "!unzip \"/content/UkraineCombinedTweetsDeduped20220227-131611.csv.gzip.zip\" && rm *.zip\n",
        "!rename \"s/\\.gzip/\\.gz/\" *"
      ],
      "metadata": {
        "id": "jI5dxkdD0fqU",
        "colab": {
          "base_uri": "https://localhost:8080/"
        },
        "outputId": "92987721-c71b-4f9e-eee8-55618bd3c0f9"
      },
      "execution_count": 4,
      "outputs": [
        {
          "output_type": "stream",
          "name": "stdout",
          "text": [
            "Downloading UkraineCombinedTweetsDeduped20220227-131611.csv.gzip.zip to /content\n",
            " 98% 261M/266M [00:01<00:00, 176MB/s]\n",
            "100% 266M/266M [00:01<00:00, 187MB/s]\n",
            "Archive:  /content/UkraineCombinedTweetsDeduped20220227-131611.csv.gzip.zip\n",
            "  inflating: UkraineCombinedTweetsDeduped20220227-131611.csv.gzip  \n"
          ]
        }
      ]
    },
    {
      "cell_type": "markdown",
      "source": [
        "##Tokenization"
      ],
      "metadata": {
        "id": "IAAYZl0o1FzQ"
      }
    },
    {
      "cell_type": "code",
      "source": [
        "def tokenize(text):\n",
        "\n",
        "  \"\"\"\n",
        "  Tokenize the tweet raw text using TweetTokenizer.\n",
        "  Lower-case tokens and remove characters like @ and \\#. \n",
        "  Filter out stopwords and keep strings made of alphabet characters only.\n",
        "\n",
        "  Args:\n",
        "    support: A tweet text.\n",
        "\n",
        "  Returns:\n",
        "     A list of words.\n",
        "\n",
        "  \"\"\"\n",
        "\n",
        "  tokens = set()\n",
        "  for x in tweet_tokenizer.tokenize(text):\n",
        "    x = x.lstrip(\"[#@]\").lower()\n",
        "    if (x.isalpha()) and (x not in stop):\n",
        "      tokens.add(x)\n",
        "  return list(tokens)"
      ],
      "metadata": {
        "id": "1l0BZvra0fzP"
      },
      "execution_count": 5,
      "outputs": []
    },
    {
      "cell_type": "markdown",
      "source": [
        "## Savasare, Omiecinski and Navathe algorithm Implementation"
      ],
      "metadata": {
        "id": "XWwvGXWf1bpd"
      }
    },
    {
      "cell_type": "code",
      "source": [
        "def apriori(support):\n",
        "\n",
        "    \"\"\"\n",
        "    Run A-priori algorithm over a partition of baskets\n",
        "    to retrieve candidate frequent itemsets.\n",
        "\n",
        "    Args:\n",
        "      support: minimum support in percentage terms.\n",
        "\n",
        "    Returns:\n",
        "      A set of key-value pairs (tuple, 1),\n",
        "      where tuple is a frequent itemset from the sample.\n",
        "\n",
        "    \"\"\"\n",
        "\n",
        "    def search_local_candidates(partition):\n",
        "\n",
        "      # read data\n",
        "      baskets = []\n",
        "      for v in partition:\n",
        "        baskets.append(v)\n",
        "          \n",
        "\n",
        "      # compute adjusted threshold accounting for the partition size\n",
        "      threshold = support * len(baskets) \n",
        "      w2i = {}\n",
        "\n",
        "      # get frequent items\n",
        "      Counter = defaultdict(lambda:0)\n",
        "      for basket in baskets:\n",
        "        for item in basket:\n",
        "          if item not in w2i:\n",
        "            w2i[item] = len(w2i.keys())\n",
        "          Counter[w2i[item]]+=1\n",
        "      i2w = {index:word for word, index in w2i.items()}\n",
        "      freq_items = {i2w[idx] for idx, s in Counter.items() if s >= threshold}\n",
        "\n",
        "      \n",
        "      # initialize the output\n",
        "      freq_sets = [] \n",
        "      k = 2\n",
        "\n",
        "      # get frequent pairs\n",
        "      Counter = defaultdict(lambda:0)\n",
        "      for basket in baskets:\n",
        "        pairs = combinations(filter(lambda x: x in freq_items, sorted(basket)), 2)\n",
        "        for pair in pairs:\n",
        "          pair = tuple(map(lambda token: w2i[token], pair))\n",
        "          Counter[pair]+=1\n",
        "\n",
        "      frequents = {tuple(map(lambda x :i2w[x], key)) for key, s in Counter.items() if s >= threshold}\n",
        "\n",
        "      # get frequent itemsets of size > 2\n",
        "      while len(frequents)!=0:\n",
        "        k+=1 \n",
        "        freq_sets.extend(frequents)\n",
        "        previous_frequents = frequents\n",
        "        Counter = defaultdict(lambda:0)\n",
        "        for basket in baskets:\n",
        "          if len(basket)>=k: # verify that the basket has at least k items\n",
        "            candidates = combinations(filter(lambda x: x in freq_items, sorted(basket)), k)\n",
        "            for candidate in candidates:\n",
        "              subsets = set(combinations(filter(lambda x: x in freq_items, candidate), k-1))\n",
        "              if len(subsets.intersection(set(previous_frequents)))==len(subsets):\n",
        "                candidate = tuple(map(lambda token: w2i[token], candidate))\n",
        "                Counter[candidate]+=1\n",
        "                \n",
        "        frequents = {tuple(map(lambda x :i2w[x], key)) for key, s in Counter.items() if s >= threshold}\n",
        "          \n",
        "\n",
        "      itemsets = list(map(lambda t:(t, 1), freq_sets))\n",
        "      singleton = list(map(lambda t:((t,), 1), freq_items))\n",
        "        \n",
        "      return itemsets + singleton\n",
        "\n",
        "    return search_local_candidates"
      ],
      "metadata": {
        "id": "qHxWw5qJ0f56"
      },
      "execution_count": 6,
      "outputs": []
    },
    {
      "cell_type": "code",
      "source": [
        "def validate(candidates):\n",
        "\n",
        "    \"\"\"\n",
        "    Invokes a function over a partition to\n",
        "    compute the support of the candidate itemsets\n",
        "\n",
        "    Args: \n",
        "    candidates: List of candidate itemsets\n",
        "    \n",
        "    Return:\n",
        "    A set of key-value pairs (candidate_itemset, local_support),\n",
        "    where candidate_itemset is a tuple of items.\n",
        "\n",
        "    \"\"\"\n",
        "\n",
        "    def count_candidates(partition):\n",
        "      baskets = []\n",
        "      for v in partition:\n",
        "        baskets.append(v)\n",
        "\n",
        "      Counter = defaultdict(lambda:0)\n",
        "      for basket in baskets:\n",
        "        for candidate in candidates:\n",
        "          if all(item in basket for item in candidate):\n",
        "            Counter[candidate]+=1\n",
        "\n",
        "      return Counter.items()\n",
        "      \n",
        "    return count_candidates "
      ],
      "metadata": {
        "id": "lgXZA-UE0gAG"
      },
      "execution_count": 7,
      "outputs": []
    },
    {
      "cell_type": "code",
      "source": [
        "def SON(data, min_support, n_baskets):\n",
        "\n",
        "  \"\"\"\n",
        "    Implements the SON algorithm for finding frequent itemsets\n",
        "\n",
        "    Args: \n",
        "    data: List of baskets\n",
        "    support: Support threshold\n",
        "    n_baskets: Total number of baskets to process\n",
        "    \n",
        "    Return:\n",
        "    A sorted list of frequent itemsets and their support,\n",
        "    formatted as tuples (frequent_itemset, support).\n",
        "\n",
        "    \"\"\"\n",
        "\n",
        "  # PHASE_1: each partition generates a set of local candidates (frequent itemsets)\n",
        "  candidates = (data.mapPartitions(apriori(min_support))\n",
        "                  .groupByKey()\n",
        "                  .map(lambda x:x[0])\n",
        "                  .collect())\n",
        "    \n",
        "  # PHASE_2: counting global support for candidate itemsets\n",
        "  frequent_itemsets = (sorted(data.mapPartitions(validate(candidates))\n",
        "                    .reduceByKey(lambda x, y: x+y)\n",
        "                    .filter(lambda x: x[1]>= min_support*n_baskets)\n",
        "                    .map(lambda x: (list(x[0]), x[1]) )\n",
        "                    .collect(), key=lambda x: -len(x[0])))\n",
        "    \n",
        "  return frequent_itemsets"
      ],
      "metadata": {
        "id": "rCdbEyBb0gFh"
      },
      "execution_count": 8,
      "outputs": []
    },
    {
      "cell_type": "markdown",
      "source": [
        "## Mining frequent itemsets with SON algorithm"
      ],
      "metadata": {
        "id": "FqUQoG8w4kZW"
      }
    },
    {
      "cell_type": "code",
      "source": [
        "data = (spark.read.csv(\"/content/UkraineCombinedTweetsDeduped20220227-131611.csv.gz\",\n",
        "                       header=True, multiLine = True, quote = \"\\\"\", escape=\"\\\"\")\n",
        "        .select(\"text\",\"language\")\n",
        "        .where(F.col(\"language\")==\"en\")\n",
        "        .select(\"text\").rdd\n",
        "        .repartition(4)\n",
        "        .map(lambda row: tokenize(row[\"text\"]))\n",
        "        .filter(lambda x:len(x)>1)\n",
        "        .cache())\n",
        "\n",
        "n_baskets = data.count()"
      ],
      "metadata": {
        "id": "ZNKxYp680gMv"
      },
      "execution_count": 13,
      "outputs": []
    },
    {
      "cell_type": "code",
      "source": [
        "n_baskets"
      ],
      "metadata": {
        "colab": {
          "base_uri": "https://localhost:8080/"
        },
        "id": "34NMQudgIMKp",
        "outputId": "48bdbeb1-8ac0-4870-b54b-2eaa52a5a1c1"
      },
      "execution_count": 10,
      "outputs": [
        {
          "output_type": "execute_result",
          "data": {
            "text/plain": [
              "722871"
            ]
          },
          "metadata": {},
          "execution_count": 10
        }
      ]
    },
    {
      "cell_type": "code",
      "source": [
        "start = time.time()\n",
        "son_result = SON(data, 0.1, n_baskets)\n",
        "end = time.time()\n",
        "print(end - start)\n",
        "son_result"
      ],
      "metadata": {
        "id": "IJmDrK0z1y5Y",
        "colab": {
          "base_uri": "https://localhost:8080/"
        },
        "outputId": "8b62494f-0cfe-419f-b343-b965beeeec0d"
      },
      "execution_count": 14,
      "outputs": [
        {
          "output_type": "stream",
          "name": "stdout",
          "text": [
            "29.13709044456482\n"
          ]
        },
        {
          "output_type": "execute_result",
          "data": {
            "text/plain": [
              "[(['russia', 'russian', 'ukraine'], 75580),\n",
              " (['russia', 'russian'], 82385),\n",
              " (['russia', 'ukraine'], 233309),\n",
              " (['russian', 'ukraine'], 157804),\n",
              " (['ukraine', 'war'], 79136),\n",
              " (['putin', 'ukraine'], 96320),\n",
              " (['people', 'ukraine'], 77476),\n",
              " (['ukraine', 'ukrainian'], 94407),\n",
              " (['russia'], 290464),\n",
              " (['russian'], 184662),\n",
              " (['ukraine'], 548232),\n",
              " (['war'], 101830),\n",
              " (['kyiv'], 91054),\n",
              " (['people'], 89893),\n",
              " (['ukrainian'], 110930),\n",
              " (['putin'], 137373)]"
            ]
          },
          "metadata": {},
          "execution_count": 14
        }
      ]
    },
    {
      "cell_type": "markdown",
      "source": [
        "## Scale-up experiments"
      ],
      "metadata": {
        "id": "29BCgESo3yxJ"
      }
    },
    {
      "cell_type": "markdown",
      "source": [
        "### Runtime of the SON algorithm with growing data size"
      ],
      "metadata": {
        "id": "60ygT1Pfz9g5"
      }
    },
    {
      "cell_type": "code",
      "source": [
        "size = np.arange(0.1, 0.71, step=0.1)\n",
        "\n",
        "elapsed_time = dict()\n",
        "for i in size:\n",
        "  # extract a sample of baskets\n",
        "  sample = data.sample(withReplacement=False, fraction= i , seed=3)\n",
        "  n_sample = sample.count()\n",
        "\n",
        "  # process the sample and record the execution time\n",
        "  start = time.time()\n",
        "  SON(sample, 0.15, n_sample) \n",
        "  end = time.time()\n",
        "  elapsed_time[i] = end - start\n",
        "  print(elapsed_time[i])"
      ],
      "metadata": {
        "id": "VLzWzqR13qmE",
        "colab": {
          "base_uri": "https://localhost:8080/"
        },
        "outputId": "5509f542-95c7-4b57-955b-427764d13b0d"
      },
      "execution_count": 15,
      "outputs": [
        {
          "output_type": "stream",
          "name": "stdout",
          "text": [
            "5.7286036014556885\n",
            "7.02065896987915\n",
            "8.853418827056885\n",
            "10.498115539550781\n",
            "11.699561595916748\n",
            "13.245783805847168\n",
            "14.504337072372437\n"
          ]
        }
      ]
    },
    {
      "cell_type": "markdown",
      "source": [
        "### Runtime with different values of support threshold"
      ],
      "metadata": {
        "id": "W5gCj1B10SAU"
      }
    },
    {
      "cell_type": "code",
      "source": [
        "threshold = [0.05, 0.075, 0.1, 0.125, 0.15, 0.175, 0.2]\n",
        "support_time = dict()\n",
        "for s in threshold:\n",
        "  start = time.time()\n",
        "  SON(data, s, n_baskets)  \n",
        "  end = time.time()\n",
        "  support_time[s] = end - start\n",
        "  print(support_time[s])"
      ],
      "metadata": {
        "colab": {
          "base_uri": "https://localhost:8080/"
        },
        "id": "vVaM97kjJy7R",
        "outputId": "d4bda685-434c-4e0e-e1f0-30ea3dddedb2"
      },
      "execution_count": 16,
      "outputs": [
        {
          "output_type": "stream",
          "name": "stdout",
          "text": [
            "60.83007264137268\n",
            "34.34389662742615\n",
            "27.942514657974243\n",
            "21.75208806991577\n",
            "17.830368518829346\n",
            "17.116760730743408\n",
            "16.094751358032227\n"
          ]
        }
      ]
    },
    {
      "cell_type": "code",
      "source": [
        "fig, axes = plt.subplots(1, 2,figsize = (14,4))\n",
        "axes[0].plot(list(support_time.keys()), list(support_time.values()))\n",
        "axes[0].set_title(\"Execution time VS Min support\", fontsize = 20)\n",
        "axes[0].set_xlabel(\"Minimum Support\", fontsize=14)\n",
        "axes[0].tick_params(axis='both', which='major', labelsize=12)\n",
        "axes[0].set_ylabel(\"Time(sec)\", fontsize=14)\n",
        "\n",
        "axes[1].plot(list(elapsed_time.keys()), list(elapsed_time.values()))\n",
        "axes[1].set_title(\"Execution time VS Data size\", fontsize = 20)\n",
        "axes[1].set_xlabel(\"Fraction of total number of baskets\", fontsize=14)\n",
        "axes[1].tick_params(axis='both', which='major', labelsize=12)\n",
        "axes[1].set_ylabel(\"Time(sec)\", fontsize=14)\n",
        "plt.savefig('scale.png')"
      ],
      "metadata": {
        "colab": {
          "base_uri": "https://localhost:8080/",
          "height": 307
        },
        "id": "El4veXomMraJ",
        "outputId": "87607d89-ab5b-43ee-f405-0c0c88edddac"
      },
      "execution_count": null,
      "outputs": [
        {
          "output_type": "display_data",
          "data": {
            "text/plain": [
              "<Figure size 1008x288 with 2 Axes>"
            ],
            "image/png": "[encoded data removed]"
          },
          "metadata": {
            "needs_background": "light"
          }
        }
      ]
    }
  ]
}